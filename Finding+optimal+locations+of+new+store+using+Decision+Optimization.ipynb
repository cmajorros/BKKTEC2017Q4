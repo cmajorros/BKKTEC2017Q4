{
 "cells": [
  {
   "cell_type": "markdown",
   "metadata": {
    "render": false
   },
   "source": [
    "# Finding optimal locations of new stores\n",
    "\n",
    "This tutorial includes everything you need to set up IBM Decision Optimization CPLEX Modeling for Python (DOcplex), build a Mathematical Programming model, and get its solution by solving the model on the cloud with IBM ILOG CPLEX Optimizer.\n",
    "\n",
    "When you finish this tutorial, you'll have a foundational knowledge of _Prescriptive Analytics_.\n",
    "\n",
    ">This notebook is part of [Prescriptive Analytics for Python](https://rawgit.com/IBMDecisionOptimization/docplex-doc/master/docs/index.html).\n",
    "\n",
    ">It requires a valid subscription to **Decision Optimization on Cloud**. Try it for free [here](https://developer.ibm.com/docloud).\n",
    "\n",
    "This notebook runs on Python 2 with Spark 2.0.\n",
    "\n",
    "Table of contents:\n",
    "\n",
    "-  [Describe the business problem](#Describe-the-business-problem)\n",
    "*  [How decision optimization (prescriptive analytics) can help](#How--decision-optimization-can-help)\n",
    "*  [Use decision optimization](#Use-decision-optimization)\n",
    "    *  [Step 1: Download the library](#Step-1:-Download-the-library)\n",
    "    *  [Step 2: Set up the engines](#Step-2:-Set-up-the-prescriptive-engine)\n",
    "    -  [Step 3: Model the data](#Step-3:-Model-the-data)\n",
    "    *  [Step 4: Prepare the data](#Step-4:-Prepare-the-data)\n",
    "    -  [Step 5: Set up the prescriptive model](#Step-5:-Set-up-the-prescriptive-model)\n",
    "        * [Define the decision variables](#Define-the-decision-variables)\n",
    "        * [Express the business constraints](#Express-the-business-constraints)\n",
    "        * [Express the objective](#Express-the-objective)\n",
    "        * [Solve with the Decision Optimization solve service](#Solve-with-the-Decision-Optimization-solve-service)\n",
    "    *  [Step 6: Investigate the solution and run an example analysis](#Step-6:-Investigate-the-solution-and-then-run-an-example-analysis)\n",
    "*  [Summary](#Summary)\n",
    "\n",
    "****"
   ]
  },
  {
   "cell_type": "markdown",
   "metadata": {
    "render": false
   },
   "source": [
    "## Describe the business problem\n",
    "\n",
    "* A fictional Coffee Company plans to open N shops in the near future and needs to determine where they should be located knowing the following:\n",
    "    * Most of the customers of this coffee brewer enjoy reading and borrowing books, so the goal is to locate those shops in such a way that all the city public libraries are within minimal walking distance.\n",
    "* We use [Chicago open data](https://data.cityofchicago.org) for this example.\n",
    "* We implement a [K-Median model](https://en.wikipedia.org/wiki/K-medians_clustering) to get the optimal location of our future shops."
   ]
  },
  {
   "cell_type": "markdown",
   "metadata": {
    "render": false
   },
   "source": [
    "## How  decision optimization can help\n",
    "\n",
    "* Prescriptive analytics (decision optimization) technology recommends actions that are based on desired outcomes.  It takes into account specific scenarios, resources, and knowledge of past and current events. With this insight, your organization can make better decisions and have greater control of business outcomes.  \n",
    "\n",
    "* Prescriptive analytics is the next step on the path to insight-based actions. It creates value through synergy with predictive analytics, which analyzes data to predict future outcomes.  \n",
    "\n",
    "* Prescriptive analytics takes that insight to the next level by suggesting the optimal way to handle that future situation. Organizations that can act fast in dynamic conditions and make superior decisions in uncertain environments gain a strong competitive advantage.  \n",
    "<br/>\n",
    "\n",
    "<u>With prescriptive analytics, you can:</u> \n",
    "\n",
    "* Automate the complex decisions and trade-offs to better manage your limited resources.\n",
    "* Take advantage of a future opportunity or mitigate a future risk.\n",
    "* Proactively update recommendations based on changing events.\n",
    "* Meet operational goals, increase customer loyalty, prevent threats and fraud, and optimize business processes."
   ]
  },
  {
   "cell_type": "markdown",
   "metadata": {},
   "source": [
    "## Use decision optimization"
   ]
  },
  {
   "cell_type": "markdown",
   "metadata": {},
   "source": [
    "### Step 1: Download the library\n",
    "\n",
    "Run the following code to install the Decision Optimization CPLEX Modeling library.  The *DOcplex* library contains the two modeling packages, Mathematical Programming and Constraint Programming, referred to earlier."
   ]
  },
  {
   "cell_type": "code",
   "execution_count": 1,
   "metadata": {
    "collapsed": true
   },
   "outputs": [],
   "source": [
    "import sys\n",
    "try:\n",
    "    import docplex.mp\n",
    "except:\n",
    "    if hasattr(sys, 'real_prefix'):\n",
    "        #we are in a virtual env.\n",
    "        !pip install docplex\n",
    "    else:\n",
    "        !pip install --user docplex"
   ]
  },
  {
   "cell_type": "markdown",
   "metadata": {},
   "source": [
    "<i>Note that the more global package docplex contains another subpackage docplex.cp that is dedicated to Constraint Programming, another branch of optimization.</i>"
   ]
  },
  {
   "cell_type": "markdown",
   "metadata": {},
   "source": [
    "### Step 2: Set up the prescriptive engine\n",
    "\n",
    "* Subscribe to the [Decision Optimization on Cloud solve service](https://developer.ibm.com/docloud).\n",
    "* Get the service URL and your personal API key, and enter your credentials here:"
   ]
  },
  {
   "cell_type": "code",
   "execution_count": 2,
   "metadata": {
    "collapsed": true
   },
   "outputs": [],
   "source": [
    "url = \"https://api-oaas.docloud.ibmcloud.com/job_manager/rest/v1\" #ENTER YOUR URL HERE\n",
    "key = \"bm_api_ext_0728df62-5ac0-414c-86a3-ba772589444b\" #ENTER YOUR KEY HERE"
   ]
  },
  {
   "cell_type": "markdown",
   "metadata": {
    "render": false
   },
   "source": [
    "### Step 3: Model the data\n",
    "\n",
    "- The data for this problem is quite simple: it is composed of the list of public libraries and their geographical locations.\n",
    "- The data is acquired from [Chicago open data](https://data.cityofchicago.org) as a JSON file, which is in the following format:\n",
    "<code>\n",
    "data\" : [ [ 1, \"13BFA4C7-78CE-4D83-B53D-B57C60B701CF\", 1, 1441918880, \"885709\", 1441918880, \"885709\", null, \"Albany Park\", \"M, W: 10AM-6PM;  TU, TH: 12PM-8PM; F, SA: 9AM-5PM; SU: Closed\", \"Yes\", \"Yes \", \"3401 W. Foster Avenue\", \"CHICAGO\", \"IL\", \"60625\", \"(773) 539-5450\", [ \"http://www.chipublib.org/locations/1/\", null ], [ null, \"41.975456\", \"-87.71409\", null, false ] ]\n",
    "</code>\n",
    "This code snippet represents library \"**3401 W. Foster Avenue**\" located at **41.975456, -87.71409**\n"
   ]
  },
  {
   "cell_type": "markdown",
   "metadata": {
    "render": false
   },
   "source": [
    "### Step 4: Prepare the data\n",
    "We need to collect the list of public libraries locations and keep their names, latitudes, and longitudes."
   ]
  },
  {
   "cell_type": "code",
   "execution_count": 3,
   "metadata": {
    "collapsed": true
   },
   "outputs": [],
   "source": [
    "# Store longitude, latitude and street crossing name of each public library location.\n",
    "class XPoint(object):\n",
    "    def __init__(self, x, y):\n",
    "        self.x = x\n",
    "        self.y = y\n",
    "    def __str__(self):\n",
    "        return \"P(%g_%g)\" % (self.x, self.y)\n",
    "\n",
    "class NamedPoint(XPoint):\n",
    "    def __init__(self, name, x, y):\n",
    "        XPoint.__init__(self, x, y)\n",
    "        self.name = name\n",
    "    def __str__(self):\n",
    "        return self.name"
   ]
  },
  {
   "cell_type": "markdown",
   "metadata": {
    "render": false
   },
   "source": [
    "#### Define how to compute the earth distance between 2 points\n",
    "To easily compute distance between 2 points, we use the Python package [geopy](https://pypi.python.org/pypi/geopy)"
   ]
  },
  {
   "cell_type": "code",
   "execution_count": 4,
   "metadata": {
    "collapsed": true
   },
   "outputs": [],
   "source": [
    "try:\n",
    "    import geopy.distance\n",
    "except:\n",
    "    if hasattr(sys, 'real_prefix'):\n",
    "        #we are in a virtual env.\n",
    "        !pip install geopy \n",
    "    else:\n",
    "        !pip install --user geopy"
   ]
  },
  {
   "cell_type": "code",
   "execution_count": 5,
   "metadata": {
    "collapsed": true
   },
   "outputs": [],
   "source": [
    "# Simple distance computation between 2 locations.\n",
    "from geopy.distance import great_circle\n",
    " \n",
    "def get_distance(p1, p2):\n",
    "    return great_circle((p1.y, p1.x), (p2.y, p2.x)).miles"
   ]
  },
  {
   "cell_type": "markdown",
   "metadata": {
    "render": false
   },
   "source": [
    "#### Declare the list of libraries\n",
    "Parse the JSON file to get the list of libraries and store them as Python elements."
   ]
  },
  {
   "cell_type": "code",
   "execution_count": 6,
   "metadata": {
    "collapsed": true,
    "render": false
   },
   "outputs": [],
   "source": [
    "def build_libraries_from_url(url, name_pos, lat_long_pos):\n",
    "    import requests\n",
    "    import json\n",
    "\n",
    "    r = requests.get(url)\n",
    "    myjson = json.loads(r.text, parse_constant='utf-8')\n",
    "    myjson = myjson['data']\n",
    "\n",
    "    libraries = []\n",
    "    k = 1\n",
    "    for location in myjson:\n",
    "        uname = location[name_pos]\n",
    "        try:\n",
    "            latitude = float(location[lat_long_pos][1])\n",
    "            longitude = float(location[lat_long_pos][2])\n",
    "        except TypeError:\n",
    "            latitude = longitude = None\n",
    "        try:\n",
    "            name = str(uname)\n",
    "        except:\n",
    "            name = \"???\"\n",
    "        name = \"P_%s_%d\" % (name, k)\n",
    "        if latitude and longitude:\n",
    "            cp = NamedPoint(name, longitude, latitude)\n",
    "            libraries.append(cp)\n",
    "            k += 1\n",
    "    return libraries"
   ]
  },
  {
   "cell_type": "code",
   "execution_count": 7,
   "metadata": {
    "collapsed": true
   },
   "outputs": [],
   "source": [
    "libraries = build_libraries_from_url('https://data.cityofchicago.org/api/views/x8fc-8rcq/rows.json?accessType=DOWNLOAD',\n",
    "                                   name_pos=12,\n",
    "                                   lat_long_pos=18)"
   ]
  },
  {
   "cell_type": "code",
   "execution_count": 8,
   "metadata": {
    "render": false
   },
   "outputs": [
    {
     "name": "stdout",
     "output_type": "stream",
     "text": [
      "There are 80 public libraries in Chicago\n"
     ]
    }
   ],
   "source": [
    "print(\"There are %d public libraries in Chicago\" % (len(libraries)))"
   ]
  },
  {
   "cell_type": "markdown",
   "metadata": {},
   "source": [
    "#### Define number of shops to open\n",
    "Create a constant that indicates how many coffee shops we would like to open."
   ]
  },
  {
   "cell_type": "code",
   "execution_count": 20,
   "metadata": {
    "render": false,
    "scrolled": false
   },
   "outputs": [
    {
     "name": "stdout",
     "output_type": "stream",
     "text": [
      "We would like to open 10 coffee shops\n"
     ]
    }
   ],
   "source": [
    "nb_shops = 10\n",
    "print(\"We would like to open %d coffee shops\" % nb_shops)"
   ]
  },
  {
   "cell_type": "markdown",
   "metadata": {
    "render": false
   },
   "source": [
    "#### Validate the data by displaying them\n",
    "We will use the [folium](https://folium.readthedocs.org/en/latest/quickstart.html#getting-started) library to display a map with markers."
   ]
  },
  {
   "cell_type": "code",
   "execution_count": 10,
   "metadata": {
    "collapsed": true
   },
   "outputs": [],
   "source": [
    "try:\n",
    "    import folium\n",
    "except:\n",
    "    if hasattr(sys, 'real_prefix'):\n",
    "        #we are in a virtual env.\n",
    "        !pip install folium \n",
    "    else:\n",
    "        !pip install --user folium"
   ]
  },
  {
   "cell_type": "code",
   "execution_count": 11,
   "metadata": {
    "scrolled": true
   },
   "outputs": [
    {
     "data": {
      "text/html": [
       "<div style=\"width:100%;\"><div style=\"position:relative;width:100%;height:0;padding-bottom:60%;\"><iframe src=\"data:text/html;charset=utf-8;base64,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\" style=\"position:absolute;width:100%;height:100%;left:0;top:0;border:none !important;\" allowfullscreen webkitallowfullscreen mozallowfullscreen></iframe></div></div>"
      ],
      "text/plain": [
       "<folium.folium.Map at 0x7f973e9bfcd0>"
      ]
     },
     "execution_count": 11,
     "metadata": {},
     "output_type": "execute_result"
    }
   ],
   "source": [
    "import folium\n",
    "map_osm = folium.Map(location=[41.878, -87.629], zoom_start=11)\n",
    "for library in libraries:\n",
    "    lt = library.y\n",
    "    lg = library.x\n",
    "    folium.Marker([lt, lg]).add_to(map_osm)\n",
    "map_osm"
   ]
  },
  {
   "cell_type": "markdown",
   "metadata": {},
   "source": [
    "After running the above code, the data is displayed but it is impossible to determine where to ideally open the coffee shops by just looking at the map.\n",
    "\n",
    "Let's set up DOcplex to write and solve an optimization model that will help us determine where to locate the coffee shops in an optimal way."
   ]
  },
  {
   "cell_type": "markdown",
   "metadata": {},
   "source": [
    "### Step 5: Set up the prescriptive model"
   ]
  },
  {
   "cell_type": "code",
   "execution_count": 12,
   "metadata": {},
   "outputs": [
    {
     "name": "stdout",
     "output_type": "stream",
     "text": [
      "* system is: Linux 64bit\n",
      "* Python is present, version is 2.7.11\n",
      "* docplex is present, version is (2, 0, 15)\n",
      "* CPLEX wrapper is not available\n"
     ]
    }
   ],
   "source": [
    "from docplex.mp.environment import Environment\n",
    "env = Environment()\n",
    "env.print_information()"
   ]
  },
  {
   "cell_type": "markdown",
   "metadata": {},
   "source": [
    "#### Create the DOcplex model\n",
    "The model contains all the business constraints and defines the objective."
   ]
  },
  {
   "cell_type": "code",
   "execution_count": 13,
   "metadata": {
    "collapsed": true
   },
   "outputs": [],
   "source": [
    "from docplex.mp.model import Model\n",
    "\n",
    "mdl = Model(\"coffee shops\")"
   ]
  },
  {
   "cell_type": "markdown",
   "metadata": {},
   "source": [
    "#### Define the decision variables"
   ]
  },
  {
   "cell_type": "code",
   "execution_count": 14,
   "metadata": {
    "collapsed": true
   },
   "outputs": [],
   "source": [
    "BIGNUM = 999999999\n",
    "\n",
    "# Ensure unique points\n",
    "libraries = set(libraries)\n",
    "# For simplicity, let's consider that coffee shops candidate locations are the same as libraries locations.\n",
    "# That is: any library location can also be selected as a coffee shop.\n",
    "coffeeshop_locations = libraries\n",
    "\n",
    "# Decision vars\n",
    "# Binary vars indicating which coffee shop locations will be actually selected\n",
    "coffeeshop_vars = mdl.binary_var_dict(coffeeshop_locations, name=\"is_coffeeshop\")\n",
    "#\n",
    "# Binary vars representing the \"assigned\" libraries for each coffee shop\n",
    "link_vars = mdl.binary_var_matrix(coffeeshop_locations, libraries, \"link\")"
   ]
  },
  {
   "cell_type": "markdown",
   "metadata": {},
   "source": [
    "#### Express the business constraints\n",
    "First constraint: if the distance is suspect, it needs to be excluded from the problem."
   ]
  },
  {
   "cell_type": "code",
   "execution_count": 15,
   "metadata": {
    "collapsed": true
   },
   "outputs": [],
   "source": [
    "for c_loc in coffeeshop_locations:\n",
    "    for b in libraries:\n",
    "        if get_distance(c_loc, b) >= BIGNUM:\n",
    "            mdl.add_constraint(link_vars[c_loc, b] == 0, \"ct_forbid_{0!s}_{1!s}\".format(c_loc, b))"
   ]
  },
  {
   "cell_type": "markdown",
   "metadata": {},
   "source": [
    "Second constraint: each library must be linked to a coffee shop that is open."
   ]
  },
  {
   "cell_type": "code",
   "execution_count": 16,
   "metadata": {},
   "outputs": [
    {
     "name": "stdout",
     "output_type": "stream",
     "text": [
      "Model: coffee shops\n",
      " - number of variables: 6480\n",
      "   - binary=6480, integer=0, continuous=0\n",
      " - number of constraints: 6400\n",
      "   - linear=6400\n",
      " - parameters: defaults\n"
     ]
    }
   ],
   "source": [
    "mdl.add_constraints(link_vars[c_loc, b] <= coffeeshop_vars[c_loc]\n",
    "                   for b in libraries\n",
    "                   for c_loc in coffeeshop_locations)\n",
    "mdl.print_information()"
   ]
  },
  {
   "cell_type": "markdown",
   "metadata": {},
   "source": [
    "Third constraint: each library is linked to exactly one coffee shop."
   ]
  },
  {
   "cell_type": "code",
   "execution_count": 17,
   "metadata": {
    "scrolled": true
   },
   "outputs": [
    {
     "name": "stdout",
     "output_type": "stream",
     "text": [
      "Model: coffee shops\n",
      " - number of variables: 6480\n",
      "   - binary=6480, integer=0, continuous=0\n",
      " - number of constraints: 6480\n",
      "   - linear=6480\n",
      " - parameters: defaults\n"
     ]
    }
   ],
   "source": [
    "mdl.add_constraints(mdl.sum(link_vars[c_loc, b] for c_loc in coffeeshop_locations) == 1\n",
    "                   for b in libraries)\n",
    "mdl.print_information()"
   ]
  },
  {
   "cell_type": "markdown",
   "metadata": {},
   "source": [
    "Fourth constraint: there is a fixed number of coffee shops to open."
   ]
  },
  {
   "cell_type": "code",
   "execution_count": 18,
   "metadata": {},
   "outputs": [
    {
     "name": "stdout",
     "output_type": "stream",
     "text": [
      "Model: coffee shops\n",
      " - number of variables: 6480\n",
      "   - binary=6480, integer=0, continuous=0\n",
      " - number of constraints: 6481\n",
      "   - linear=6481\n",
      " - parameters: defaults\n"
     ]
    }
   ],
   "source": [
    "# Total nb of open coffee shops\n",
    "mdl.add_constraint(mdl.sum(coffeeshop_vars[c_loc] for c_loc in coffeeshop_locations) == nb_shops)\n",
    "\n",
    "# Print model information\n",
    "mdl.print_information()"
   ]
  },
  {
   "cell_type": "markdown",
   "metadata": {},
   "source": [
    "#### Express the objective\n",
    "\n",
    "The objective is to minimize the total distance from libraries to coffee shops so that a book reader always gets to our coffee shop easily.\n"
   ]
  },
  {
   "cell_type": "code",
   "execution_count": 19,
   "metadata": {
    "collapsed": true
   },
   "outputs": [],
   "source": [
    "# Minimize total distance from points to hubs\n",
    "total_distance = mdl.sum(link_vars[c_loc, b] * get_distance(c_loc, b) for c_loc in coffeeshop_locations for b in libraries)\n",
    "mdl.minimize(total_distance)"
   ]
  },
  {
   "cell_type": "markdown",
   "metadata": {},
   "source": [
    "#### Solve with the Decision Optimization solve service\n",
    "\n",
    "Solve the model on the cloud. "
   ]
  },
  {
   "cell_type": "code",
   "execution_count": 20,
   "metadata": {},
   "outputs": [
    {
     "name": "stdout",
     "output_type": "stream",
     "text": [
      "# coffee shops locations = 80\n",
      "# coffee shops           = 20\n"
     ]
    }
   ],
   "source": [
    "print(\"# coffee shops locations = %d\" % len(coffeeshop_locations))\n",
    "print(\"# coffee shops           = %d\" % nb_shops)\n",
    "\n",
    "assert mdl.solve(url=url, key=key), \"!!! Solve of the model fails\""
   ]
  },
  {
   "cell_type": "markdown",
   "metadata": {
    "render": false
   },
   "source": [
    "### Step 6: Investigate the solution and then run an example analysis\n",
    "\n",
    "The solution can be analyzed by displaying the location of the coffee shops on a map."
   ]
  },
  {
   "cell_type": "code",
   "execution_count": 21,
   "metadata": {
    "render": false
   },
   "outputs": [
    {
     "name": "stdout",
     "output_type": "stream",
     "text": [
      "Total distance = 86.6281\n",
      "# coffee shops  = 20\n",
      "new coffee shop: P_2311 S. Kedzie Avenue_43\n",
      "new coffee shop: P_1101 W. Taylor Street_60\n",
      "new coffee shop: P_1745 W. 63rd Street_74\n",
      "new coffee shop: P_2401 E. 100th Street_37\n",
      "new coffee shop: P_13281 S. Corliss Avenue_2\n",
      "new coffee shop: P_6083 N. Northwest Highway_58\n",
      "new coffee shop: P_4856 W. Chicago Avenue_73\n",
      "new coffee shop: P_1000 East 73rd Street_30\n",
      "new coffee shop: P_3104 N. Narragansett Avenue_72\n",
      "new coffee shop: P_4101 W. 79th Street_61\n",
      "new coffee shop: P_11071 S. Hoyne Avenue_70\n",
      "new coffee shop: P_6435 N. California Avenue_54\n",
      "new coffee shop: P_1605 N. Troy Street_34\n",
      "new coffee shop: P_9525 S. Halsted Street_79\n",
      "new coffee shop: P_929 W. Buena Avenue_68\n",
      "new coffee shop: P_310 W. Division Street_51\n",
      "new coffee shop: P_3647 S. State Street_16\n",
      "new coffee shop: P_2807 W. 55th Street_27\n",
      "new coffee shop: P_6348 S. Archer Avenue_29\n",
      "new coffee shop: P_4400 W. Lawrence Avenue_47\n"
     ]
    }
   ],
   "source": [
    "total_distance = mdl.objective_value\n",
    "open_coffeeshops = [c_loc for c_loc in coffeeshop_locations if coffeeshop_vars[c_loc].solution_value == 1]\n",
    "not_coffeeshops = [c_loc for c_loc in coffeeshop_locations if c_loc not in open_coffeeshops]\n",
    "edges = [(c_loc, b) for b in libraries for c_loc in coffeeshop_locations if int(link_vars[c_loc, b]) == 1]\n",
    "\n",
    "print(\"Total distance = %g\" % total_distance)\n",
    "print(\"# coffee shops  = {0}\".format(len(open_coffeeshops)))\n",
    "for c in open_coffeeshops:\n",
    "    print(\"new coffee shop: {0!s}\".format(c))"
   ]
  },
  {
   "cell_type": "markdown",
   "metadata": {},
   "source": [
    "#### Displaying the solution\n",
    "Coffee shops are highlighted in red."
   ]
  },
  {
   "cell_type": "code",
   "execution_count": 22,
   "metadata": {},
   "outputs": [
    {
     "name": "stderr",
     "output_type": "stream",
     "text": [
      "/usr/local/src/bluemix_jupyter_bundle.v65/notebook/lib/python2.7/site-packages/ipykernel/__main__.py:17: FutureWarning: Method `add_children` is deprecated. Please use `add_child` instead.\n"
     ]
    },
    {
     "data": {
      "text/html": [
       "<div style=\"width:100%;\"><div style=\"position:relative;width:100%;height:0;padding-bottom:60%;\"><iframe src=\"data:text/html;charset=utf-8;base64,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\" style=\"position:absolute;width:100%;height:100%;left:0;top:0;border:none !important;\" allowfullscreen webkitallowfullscreen mozallowfullscreen></iframe></div></div>"
      ],
      "text/plain": [
       "<folium.folium.Map at 0x7fc6a2e5b090>"
      ]
     },
     "execution_count": 22,
     "metadata": {},
     "output_type": "execute_result"
    }
   ],
   "source": [
    "import folium\n",
    "map_osm = folium.Map(location=[41.878, -87.629], zoom_start=11)\n",
    "for coffeeshop in open_coffeeshops:\n",
    "    lt = coffeeshop.y\n",
    "    lg = coffeeshop.x\n",
    "    folium.Marker([lt, lg], icon=folium.Icon(color='red',icon='info-sign')).add_to(map_osm)\n",
    "    \n",
    "for b in libraries:\n",
    "    if b not in open_coffeeshops:\n",
    "        lt = b.y\n",
    "        lg = b.x\n",
    "        folium.Marker([lt, lg]).add_to(map_osm)\n",
    "    \n",
    "\n",
    "for (c, b) in edges:\n",
    "    coordinates = [[c.y, c.x], [b.y, b.x]]\n",
    "    map_osm.add_children(folium.PolyLine(coordinates, color='#FF0000', weight=5))\n",
    "\n",
    "map_osm"
   ]
  },
  {
   "cell_type": "markdown",
   "metadata": {
    "collapsed": true
   },
   "source": [
    "## Summary\n",
    "\n",
    "\n",
    "You learned how to set up and use IBM Decision Optimization CPLEX Modeling for Python to formulate a Mathematical Programming model and solve it with IBM Decision Optimization on Cloud."
   ]
  },
  {
   "cell_type": "markdown",
   "metadata": {},
   "source": [
    "## Author\n",
    "\n",
    "\n",
    "<b>Vincent Beraudier</b> is Software Architect and Program Manager for Prescriptive Analytics and Decision Optimization in \n",
    "IBM Analytics. With IBM and ILOG for more than 16 years, he has been responsible for optimization model development tools: OPL and DOcplex. OPL, the Optimization Programming Language, provides a natural mathematical description of optimization models. DOcplex, IBM's CPLEX modeling for Python offering, is an open source project that aims at leveraging the scientific ecosystem of Python and Jupyter/Zeppeling Notebooks. It can solve Optimization Mathematical Programming models with CPLEX cloud service (DOcplexcloud) or with CPLEX local solver, without any code change.\n"
   ]
  },
  {
   "cell_type": "markdown",
   "metadata": {
    "collapsed": true
   },
   "source": [
    "## References\n",
    "* [CPLEX Modeling for Python documentation](https://rawgit.com/IBMDecisionOptimization/docplex-doc/master/docs/index.html)\n",
    "* [Decision Optimization on Cloud](https://developer.ibm.com/docloud/)\n",
    "* Need help with DOcplex or to report a bug? Please go [here](https://developer.ibm.com/answers/smartspace/docloud).\n",
    "* Contact us at dofeedback@wwpdl.vnet.ibm.com."
   ]
  },
  {
   "cell_type": "markdown",
   "metadata": {},
   "source": [
    "<b>Copyright © 2017 IBM. This notebook and its source code are released under the terms of the MIT License.</b>"
   ]
  }
 ],
 "metadata": {
  "celltoolbar": "Dashboard",
  "kernelspec": {
   "display_name": "Python 2 with Spark 2.0",
   "language": "python",
   "name": "python2-spark20"
  },
  "language_info": {
   "codemirror_mode": {
    "name": "ipython",
    "version": 2
   },
   "file_extension": ".py",
   "mimetype": "text/x-python",
   "name": "python",
   "nbconvert_exporter": "python",
   "pygments_lexer": "ipython2",
   "version": "2.7.11"
  }
 },
 "nbformat": 4,
 "nbformat_minor": 1
}
